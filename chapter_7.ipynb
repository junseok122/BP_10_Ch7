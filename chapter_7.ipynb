{
  "nbformat": 4,
  "nbformat_minor": 0,
  "metadata": {
    "colab": {
      "provenance": [],
      "authorship_tag": "ABX9TyN9mJOfz/Put7KnBkTrP7U4",
      "include_colab_link": true
    },
    "kernelspec": {
      "name": "python3",
      "display_name": "Python 3"
    },
    "language_info": {
      "name": "python"
    }
  },
  "cells": [
    {
      "cell_type": "markdown",
      "metadata": {
        "id": "view-in-github",
        "colab_type": "text"
      },
      "source": [
        "<a href=\"https://colab.research.google.com/github/junseok122/BP_10_Ch7/blob/main/chapter_7.ipynb\" target=\"_parent\"><img src=\"https://colab.research.google.com/assets/colab-badge.svg\" alt=\"Open In Colab\"/></a>"
      ]
    },
    {
      "cell_type": "code",
      "execution_count": null,
      "metadata": {
        "id": "eFYvbTP1-a91"
      },
      "outputs": [],
      "source": [
        "import turtle\n",
        "t= turtle.Turtle()\n",
        "t.shape(\"turtle\")\n",
        "t.color(\"black\", \"white\")\n",
        "s = turtle.screen(); s.bgcolor('skyblue');\n",
        "\n",
        "def draw_snowman(x,y):\n",
        "  t.up()\n",
        "  t.goto(x,y)\n",
        "  t.dodwn()\n",
        "  t.begin_fill() #채우다\n",
        "  t.circle(20)\n",
        "  t.end_fill()\n",
        "  t.goto(x,y-25)\n",
        "  t.setheading(135)\n",
        "  t.forward(50)\n",
        "  t.backward(50)\n",
        "\n",
        "  t.setheading(30)\n",
        "  t.forward(50)\n",
        "  t.backward(50)\n",
        "  t.setheading(0)\n",
        "\n",
        "  t.begin_fill()\n",
        "  t.circle(15)\n",
        "  t.end_fill()\n",
        "  t.goto(x, y-70)\n",
        "  t.begin_fill()\n",
        "  t.circle(30)\n",
        "  t.end_fill()\n",
        "\n",
        "draw_snowman(0,0)\n",
        "draw_snowman(100,0)\n",
        "drwa_snowman(200,0)"
      ]
    },
    {
      "cell_type": "code",
      "source": [
        "import turtle\n",
        "t = turtle.Turtle()\n",
        "t.shape(\"turtle\")\n",
        "t.speed(0)\n",
        "\n",
        "def hexagon():\n",
        "  for i in range(6):\n",
        "    t.forward(100)\n",
        "    t.left(360/6)\n",
        "\n",
        "for i in range (6):\n",
        "  hexagon()\n",
        "  t.forward(100)\n",
        "  t.right(60)"
      ],
      "metadata": {
        "colab": {
          "base_uri": "https://localhost:8080/",
          "height": 137
        },
        "id": "kjD6s4u6KaRC",
        "outputId": "4f958521-616a-4bde-e552-9e4817ad1ec4"
      },
      "execution_count": null,
      "outputs": [
        {
          "output_type": "error",
          "ename": "IndentationError",
          "evalue": "ignored",
          "traceback": [
            "\u001b[0;36m  File \u001b[0;32m\"<ipython-input-1-73b9b1348533>\"\u001b[0;36m, line \u001b[0;32m12\u001b[0m\n\u001b[0;31m    turtle.forward(100)\u001b[0m\n\u001b[0m    ^\u001b[0m\n\u001b[0;31mIndentationError\u001b[0m\u001b[0;31m:\u001b[0m unexpected indent\n"
          ]
        }
      ]
    },
    {
      "cell_type": "code",
      "source": [
        "import turtle\n",
        "t = turtle.Turtle()\n",
        "t.shape(\"turtle\")\n",
        "t.speed(0)\n",
        "\n",
        "def f(x):\n",
        "  return x**2+1\n",
        "\n",
        "t.goto(200,0)\n",
        "t.goto(0,0)\n",
        "t.goto(0,200)\n",
        "t.goto(0,0)\n",
        "\n",
        "for x in range(150):\n",
        "  t.goto(x, int(0.01*f(x)))"
      ],
      "metadata": {
        "id": "OMbowGDhK3wF"
      },
      "execution_count": null,
      "outputs": []
    },
    {
      "cell_type": "code",
      "source": [
        "import turtle\n",
        "t = turtle.Turtle()\n",
        "t.shape(\"turtle\")\n",
        "t.speed(0)\n",
        "\n",
        "def draw_line():\n",
        "    t.forward(100)\n",
        "    t.backward(100)\n",
        "\n",
        "for x in range(12):\n",
        "      t.right(30)\n",
        "      draw_line()"
      ],
      "metadata": {
        "id": "S5EhmlDvMjry"
      },
      "execution_count": null,
      "outputs": []
    },
    {
      "cell_type": "code",
      "source": [
        "def happyBirthday(person):\n",
        "    print(\"Happy Birthday to you!\")\n",
        "    print(\"Happy Birthday to you!\")\n",
        "    print(\"Happy Birthday, dear \" + person)\n",
        "    print(\"Happy Birthday to you!\")\n",
        "\n",
        "happyBirthday(\"홍길동\")"
      ],
      "metadata": {
        "id": "YY57NwAENrn8"
      },
      "execution_count": null,
      "outputs": []
    },
    {
      "cell_type": "code",
      "source": [
        "def sumProblem(x, y):\n",
        "    sum = x + y\n",
        "    sentence = \"정수\" + str(x) + \"+\"+str(y)+\"의 합은?\"\n",
        "    print(sentence)\n",
        "\n",
        "def main():\n",
        "    a = int(input(\"첫 번째 정수: \"))\n",
        "    b = int(input(\"두 번째 정수: \"))\n",
        "    sumProblem(a, b)\n",
        "\n",
        "main()"
      ],
      "metadata": {
        "id": "Bs_H0_S2g9gz"
      },
      "execution_count": null,
      "outputs": []
    },
    {
      "cell_type": "code",
      "source": [
        "PI = 3.14159265358979   \n",
        "\n",
        "def circleArea(radius):\n",
        "    return PI*radius*radius    \n",
        "\n",
        "def circleCircumference(radius):\n",
        "    return 2*PI*radius         \n",
        "\n",
        "def main():\n",
        "    print('반지름이 5인 원의 면적:', circleArea(5))\n",
        "    print('반지름이 5인 원의 둘레:', circleCircumference(5))\n",
        "\n",
        "main()"
      ],
      "metadata": {
        "id": "rz8F7NIOg_Uo"
      },
      "execution_count": null,
      "outputs": []
    },
    {
      "cell_type": "code",
      "source": [
        "def add(a, b):\n",
        "    print( \"(%d + %d)\" % (a, b), end=\" \")\n",
        "    return a + b\n",
        "\n",
        "def subtract(a, b):\n",
        "    print (\"(%d - %d)\" % (a, b), end=\" \")\n",
        "    return a - b\n",
        "\n",
        "def multiply(a, b):\n",
        "    print (\"(%d * %d)\" % (a, b), end=\" \")\n",
        "    return a * b\n",
        "\n",
        "def divide(a, b):\n",
        "    print (\"(%d / %d)\" % (a, b), end=\" \")\n",
        "    return a / b\n",
        "\n",
        "\n",
        "what = add(20, 10)\n",
        "print(\"= \", what)"
      ],
      "metadata": {
        "colab": {
          "base_uri": "https://localhost:8080/"
        },
        "id": "_ZOrJ_Q-hBRQ",
        "outputId": "89ad9419-c91f-4041-ee48-a87b3b461fd3"
      },
      "execution_count": null,
      "outputs": [
        {
          "output_type": "stream",
          "name": "stdout",
          "text": [
            "(20 + 10) =  30\n"
          ]
        }
      ]
    }
  ]
}